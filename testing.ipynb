{
 "cells": [
  {
   "cell_type": "code",
   "execution_count": 1,
   "metadata": {},
   "outputs": [],
   "source": [
    "import pandas as pd"
   ]
  },
  {
   "cell_type": "code",
   "execution_count": 2,
   "metadata": {},
   "outputs": [],
   "source": [
    "df = pd.read_json('quiz_dataset_extended-1.json')"
   ]
  },
  {
   "cell_type": "code",
   "execution_count": 5,
   "metadata": {},
   "outputs": [
    {
     "data": {
      "text/html": [
       "<div>\n",
       "<style scoped>\n",
       "    .dataframe tbody tr th:only-of-type {\n",
       "        vertical-align: middle;\n",
       "    }\n",
       "\n",
       "    .dataframe tbody tr th {\n",
       "        vertical-align: top;\n",
       "    }\n",
       "\n",
       "    .dataframe thead th {\n",
       "        text-align: right;\n",
       "    }\n",
       "</style>\n",
       "<table border=\"1\" class=\"dataframe\">\n",
       "  <thead>\n",
       "    <tr style=\"text-align: right;\">\n",
       "      <th></th>\n",
       "      <th>topic</th>\n",
       "      <th>question</th>\n",
       "      <th>choices</th>\n",
       "      <th>correct_answer</th>\n",
       "      <th>score</th>\n",
       "    </tr>\n",
       "  </thead>\n",
       "  <tbody>\n",
       "    <tr>\n",
       "      <th>45</th>\n",
       "      <td>Math</td>\n",
       "      <td>What is the value of 2³ × 3²?</td>\n",
       "      <td>[72, 48, 24, 18]</td>\n",
       "      <td>72</td>\n",
       "      <td>10</td>\n",
       "    </tr>\n",
       "  </tbody>\n",
       "</table>\n",
       "</div>"
      ],
      "text/plain": [
       "   topic                       question           choices correct_answer  \\\n",
       "45  Math  What is the value of 2³ × 3²?  [72, 48, 24, 18]             72   \n",
       "\n",
       "    score  \n",
       "45     10  "
      ]
     },
     "execution_count": 5,
     "metadata": {},
     "output_type": "execute_result"
    }
   ],
   "source": [
    "df[df.question.str.contains(\"What is the value of 2³ × 3²?\")]"
   ]
  },
  {
   "cell_type": "code",
   "execution_count": 6,
   "metadata": {},
   "outputs": [],
   "source": [
    "questions = [df.iloc[i] for i in range(0,10)]  "
   ]
  },
  {
   "cell_type": "code",
   "execution_count": 7,
   "metadata": {},
   "outputs": [
    {
     "name": "stdout",
     "output_type": "stream",
     "text": [
      "[topic                                                       History\n",
      "question          Who was the first President of the United States?\n",
      "choices           [George Washington, Thomas Jefferson, Abraham ...\n",
      "correct_answer                                    George Washington\n",
      "score                                                            10\n",
      "Name: 0, dtype: object, topic                                      History\n",
      "question          Which year did World War II end?\n",
      "choices                   [1943, 1944, 1945, 1946]\n",
      "correct_answer                                1945\n",
      "score                                           10\n",
      "Name: 1, dtype: object, topic                                                       History\n",
      "question                                    Who discovered America?\n",
      "choices           [Christopher Columbus, Vasco da Gama, James Co...\n",
      "correct_answer                                 Christopher Columbus\n",
      "score                                                            10\n",
      "Name: 2, dtype: object, topic                                                       History\n",
      "question          What was the name of the ship that carried the...\n",
      "choices               [Mayflower, Santa Maria, Endeavour, Victoria]\n",
      "correct_answer                                            Mayflower\n",
      "score                                                            10\n",
      "Name: 3, dtype: object, topic                                                    History\n",
      "question          Which ancient civilization built the pyramids?\n",
      "choices                   [Greek, Roman, Egyptian, Mesopotamian]\n",
      "correct_answer                                          Egyptian\n",
      "score                                                         10\n",
      "Name: 4, dtype: object, topic                                                       History\n",
      "question                         Who wrote the Communist Manifesto?\n",
      "choices           [Karl Marx, Vladimir Lenin, Friedrich Engels, ...\n",
      "correct_answer                                            Karl Marx\n",
      "score                                                            10\n",
      "Name: 5, dtype: object, topic                                          History\n",
      "question          What was the first dynasty of China?\n",
      "choices                      [Ming, Tang, Shang, Zhou]\n",
      "correct_answer                                   Shang\n",
      "score                                               10\n",
      "Name: 6, dtype: object, topic                                                       History\n",
      "question                            Who was known as the Iron Lady?\n",
      "choices           [Margaret Thatcher, Angela Merkel, Golda Meir,...\n",
      "correct_answer                                    Margaret Thatcher\n",
      "score                                                            10\n",
      "Name: 7, dtype: object, topic                                                       History\n",
      "question          Which war was fought between the North and Sou...\n",
      "choices           [World War I, American Civil War, Revolutionar...\n",
      "correct_answer                                   American Civil War\n",
      "score                                                            10\n",
      "Name: 8, dtype: object, topic                                         History\n",
      "question          What year did the Berlin Wall fall?\n",
      "choices                      [1987, 1989, 1991, 1993]\n",
      "correct_answer                                   1989\n",
      "score                                              10\n",
      "Name: 9, dtype: object]\n"
     ]
    }
   ],
   "source": [
    "print(questions)"
   ]
  },
  {
   "cell_type": "code",
   "execution_count": 24,
   "metadata": {},
   "outputs": [
    {
     "data": {
      "text/plain": [
       "['Greek', 'Roman', 'Egyptian', 'Mesopotamian']"
      ]
     },
     "execution_count": 24,
     "metadata": {},
     "output_type": "execute_result"
    }
   ],
   "source": [
    "questions[4][\"choices\"]"
   ]
  },
  {
   "cell_type": "code",
   "execution_count": 5,
   "metadata": {},
   "outputs": [
    {
     "name": "stdout",
     "output_type": "stream",
     "text": [
      "Defaulting to user installation because normal site-packages is not writeable\n",
      "Collecting mpmath\n",
      "  Using cached mpmath-1.3.0-py3-none-any.whl.metadata (8.6 kB)\n",
      "Using cached mpmath-1.3.0-py3-none-any.whl (536 kB)\n",
      "Installing collected packages: mpmath\n",
      "Successfully installed mpmath-1.3.0\n",
      "\n",
      "\u001b[1m[\u001b[0m\u001b[34;49mnotice\u001b[0m\u001b[1;39;49m]\u001b[0m\u001b[39;49m A new release of pip is available: \u001b[0m\u001b[31;49m25.0.1\u001b[0m\u001b[39;49m -> \u001b[0m\u001b[32;49m25.1.1\u001b[0m\n",
      "\u001b[1m[\u001b[0m\u001b[34;49mnotice\u001b[0m\u001b[1;39;49m]\u001b[0m\u001b[39;49m To update, run: \u001b[0m\u001b[32;49mpip install --upgrade pip\u001b[0m\n"
     ]
    }
   ],
   "source": [
    "!pip install mpmath"
   ]
  },
  {
   "cell_type": "code",
   "execution_count": 7,
   "metadata": {},
   "outputs": [
    {
     "data": {
      "text/plain": [
       "'3.1415926535897932384626433832795028841971693993751058209749445923078164062862089986280348253421170679821'"
      ]
     },
     "execution_count": 7,
     "metadata": {},
     "output_type": "execute_result"
    }
   ],
   "source": [
    "from mpmath import mp\n",
    "\n",
    "# Set precision to 101 digits (1 extra for the leading \"3\")\n",
    "mp.dps = 105\n",
    "pi_str = str(mp.pi)\n",
    "\n",
    "# Show the first 100 digits (including the \"3\" before the decimal)\n",
    "first_100_digits_of_pi = pi_str[:105]  # 1 digit before decimal + 100 digits after\n",
    "\n",
    "first_100_digits_of_pi"
   ]
  }
 ],
 "metadata": {
  "kernelspec": {
   "display_name": "Python 3",
   "language": "python",
   "name": "python3"
  },
  "language_info": {
   "codemirror_mode": {
    "name": "ipython",
    "version": 3
   },
   "file_extension": ".py",
   "mimetype": "text/x-python",
   "name": "python",
   "nbconvert_exporter": "python",
   "pygments_lexer": "ipython3",
   "version": "3.12.3"
  }
 },
 "nbformat": 4,
 "nbformat_minor": 2
}
